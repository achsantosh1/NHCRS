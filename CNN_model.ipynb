{
 "cells": [
  {
   "cell_type": "code",
   "execution_count": 1,
   "metadata": {},
   "outputs": [],
   "source": [
    "import os \n",
    "import numpy as np\n",
    "import keras\n",
    "import tensorflow\n",
    "import sys\n",
    "from PIL import Image\n",
    "from tensorflow.keras.preprocessing.image import ImageDataGenerator\n",
    "from tensorflow.keras.layers import Conv2D, MaxPooling2D, Dropout, Activation\n",
    "from tensorflow.keras.layers import Flatten, Dense, Activation\n",
    "from tensorflow.keras.optimizers import SGD, Adam\n",
    "from tensorflow.keras.models import Sequential\n",
    "from tensorflow.keras.callbacks import EarlyStopping, ModelCheckpoint\n",
    "import matplotlib.pyplot as plt\n",
    "import time"
   ]
  },
  {
   "cell_type": "code",
   "execution_count": 4,
   "metadata": {},
   "outputs": [
    {
     "name": "stdout",
     "output_type": "stream",
     "text": [
      "character_32_patalosaw\n"
     ]
    },
    {
     "data": {
      "text/plain": [
       "46"
      ]
     },
     "execution_count": 4,
     "metadata": {},
     "output_type": "execute_result"
    }
   ],
   "source": [
    "current_dir = os.getcwd()\n",
    "train_dir = os.path.join(current_dir, 'DevanagariHandwrittenCharacterDataset/Train')\n",
    "test_dir = os.path.join(current_dir, 'DevanagariHandwrittenCharacterDataset/Test')\n",
    "\n",
    "train_datasets = os.listdir(train_dir)\n",
    "test_datasets = os.listdir(test_dir)\n",
    "print(test_datasets[24])\n",
    "len(train_datasets)"
   ]
  },
  {
   "cell_type": "code",
   "execution_count": 5,
   "metadata": {},
   "outputs": [
    {
     "name": "stdout",
     "output_type": "stream",
     "text": [
      "78201\n",
      "13800\n"
     ]
    }
   ],
   "source": [
    "# counting the data\n",
    "train_dataset_count = 0\n",
    "for i in train_datasets:\n",
    "    data_path = os.path.join(train_dir, str(i))\n",
    "    train_dataset_count += len(os.listdir(data_path))   \n",
    "print(train_dataset_count)\n",
    "\n",
    "test_dataset_count = 0\n",
    "for i in test_datasets:\n",
    "    data_path = os.path.join(test_dir, str(i))\n",
    "    test_dataset_count += len(os.listdir(data_path))   \n",
    "print(test_dataset_count)"
   ]
  },
  {
   "cell_type": "code",
   "execution_count": 6,
   "metadata": {},
   "outputs": [],
   "source": [
    "batch_size = 32\n",
    "img_rows, img_cols = 32,32\n",
    "epochs = 100"
   ]
  },
  {
   "cell_type": "code",
   "execution_count": 7,
   "metadata": {},
   "outputs": [
    {
     "name": "stdout",
     "output_type": "stream",
     "text": [
      "Found 78201 images belonging to 46 classes.\n",
      "Found 13800 images belonging to 46 classes.\n"
     ]
    }
   ],
   "source": [
    "train_datagen = ImageDataGenerator(\n",
    "    rescale=1./255,\n",
    "    zoom_range=0.2,\n",
    "    fill_mode='nearest'\n",
    ")\n",
    "\n",
    "train_generator = train_datagen.flow_from_directory(\n",
    "    train_dir,\n",
    "    color_mode='grayscale',\n",
    "    target_size=(img_rows, img_cols),\n",
    "    batch_size=batch_size,\n",
    "    class_mode='categorical'\n",
    ")\n",
    "\n",
    "test_datagen = ImageDataGenerator(rescale=1./255)\n",
    "\n",
    "test_generator = train_datagen.flow_from_directory(\n",
    "    test_dir,\n",
    "    color_mode='grayscale',\n",
    "    target_size=(img_rows, img_cols),\n",
    "    batch_size=batch_size,\n",
    "    class_mode='categorical'\n",
    ")\n",
    "\n"
   ]
  },
  {
   "cell_type": "code",
   "execution_count": null,
   "metadata": {},
   "outputs": [],
   "source": []
  },
  {
   "cell_type": "code",
   "execution_count": 8,
   "metadata": {},
   "outputs": [],
   "source": [
    "model = Sequential()\n",
    "\n",
    "model.add(Conv2D(filters=32, kernel_size=(5,5),activation='relu',input_shape=(img_rows, img_cols, 1)))\n",
    "model.add(MaxPooling2D(pool_size=(2,2)))\n",
    "\n",
    "model.add(Conv2D(filters=32, kernel_size=(3,3), activation='relu'))\n",
    "model.add(MaxPooling2D(pool_size=(2,2)))\n",
    "model.add(Dropout(rate=0.25))\n",
    "\n",
    "model.add(Flatten())\n",
    "model.add(Dense(units=128, activation='relu'))\n",
    "\n",
    "model.add(Dense(units=len(train_datasets), activation='softmax'))"
   ]
  },
  {
   "cell_type": "code",
   "execution_count": 9,
   "metadata": {},
   "outputs": [
    {
     "name": "stdout",
     "output_type": "stream",
     "text": [
      "Model: \"sequential\"\n",
      "_________________________________________________________________\n",
      "Layer (type)                 Output Shape              Param #   \n",
      "=================================================================\n",
      "conv2d (Conv2D)              (None, 28, 28, 32)        832       \n",
      "_________________________________________________________________\n",
      "max_pooling2d (MaxPooling2D) (None, 14, 14, 32)        0         \n",
      "_________________________________________________________________\n",
      "conv2d_1 (Conv2D)            (None, 12, 12, 32)        9248      \n",
      "_________________________________________________________________\n",
      "max_pooling2d_1 (MaxPooling2 (None, 6, 6, 32)          0         \n",
      "_________________________________________________________________\n",
      "dropout (Dropout)            (None, 6, 6, 32)          0         \n",
      "_________________________________________________________________\n",
      "flatten (Flatten)            (None, 1152)              0         \n",
      "_________________________________________________________________\n",
      "dense (Dense)                (None, 128)               147584    \n",
      "_________________________________________________________________\n",
      "dense_1 (Dense)              (None, 46)                5934      \n",
      "=================================================================\n",
      "Total params: 163,598\n",
      "Trainable params: 163,598\n",
      "Non-trainable params: 0\n",
      "_________________________________________________________________\n"
     ]
    }
   ],
   "source": [
    "model.summary()"
   ]
  },
  {
   "cell_type": "code",
   "execution_count": 10,
   "metadata": {},
   "outputs": [],
   "source": [
    "early_stop = EarlyStopping(monitor='val_accuracy',\n",
    "                          min_delta=0,\n",
    "                           patience=10,\n",
    "                           verbose=1,\n",
    "                           mode='max',\n",
    "                           restore_best_weights=True\n",
    "                          )\n",
    "check_point = ModelCheckpoint(\n",
    "    'Handwritten_OCR.h5',\n",
    "    monitor='val_accuracy',\n",
    "    mode='max',\n",
    "    save_best_only=True,\n",
    "    verbose=1\n",
    ")\n",
    "\n",
    "callbacks=[check_point, early_stop]"
   ]
  },
  {
   "cell_type": "code",
   "execution_count": 11,
   "metadata": {},
   "outputs": [],
   "source": [
    "model.compile(loss='categorical_crossentropy',\n",
    "            metrics=['accuracy'],\n",
    "            optimizer=Adam(lr=0.001)\n",
    "             )"
   ]
  },
  {
   "cell_type": "code",
   "execution_count": 12,
   "metadata": {},
   "outputs": [
    {
     "name": "stdout",
     "output_type": "stream",
     "text": [
      "WARNING:tensorflow:From <ipython-input-12-5b8455b8d246>:2: Model.fit_generator (from tensorflow.python.keras.engine.training) is deprecated and will be removed in a future version.\n",
      "Instructions for updating:\n",
      "Please use Model.fit, which supports generators.\n",
      "Epoch 1/100\n",
      "2444/2443 [==============================] - ETA: 0s - loss: 0.6904 - accuracy: 0.8022\n",
      "Epoch 00001: val_accuracy improved from -inf to 0.92957, saving model to Handwritten_OCR.h5\n",
      "2444/2443 [==============================] - 104s 43ms/step - loss: 0.6904 - accuracy: 0.8022 - val_loss: 0.2315 - val_accuracy: 0.9296\n",
      "Epoch 2/100\n",
      "2444/2443 [==============================] - ETA: 0s - loss: 0.2450 - accuracy: 0.9245\n",
      "Epoch 00002: val_accuracy improved from 0.92957 to 0.95152, saving model to Handwritten_OCR.h5\n",
      "2444/2443 [==============================] - 69s 28ms/step - loss: 0.2450 - accuracy: 0.9245 - val_loss: 0.1591 - val_accuracy: 0.9515\n",
      "Epoch 3/100\n",
      "2442/2443 [============================>.] - ETA: 0s - loss: 0.1762 - accuracy: 0.9452\n",
      "Epoch 00003: val_accuracy improved from 0.95152 to 0.96283, saving model to Handwritten_OCR.h5\n",
      "2444/2443 [==============================] - 68s 28ms/step - loss: 0.1762 - accuracy: 0.9452 - val_loss: 0.1187 - val_accuracy: 0.9628\n",
      "Epoch 4/100\n",
      "2442/2443 [============================>.] - ETA: 0s - loss: 0.1411 - accuracy: 0.9556\n",
      "Epoch 00004: val_accuracy improved from 0.96283 to 0.96638, saving model to Handwritten_OCR.h5\n",
      "2444/2443 [==============================] - 69s 28ms/step - loss: 0.1411 - accuracy: 0.9556 - val_loss: 0.1114 - val_accuracy: 0.9664\n",
      "Epoch 5/100\n",
      "2442/2443 [============================>.] - ETA: 0s - loss: 0.1204 - accuracy: 0.9609\n",
      "Epoch 00005: val_accuracy did not improve from 0.96638\n",
      "2444/2443 [==============================] - 71s 29ms/step - loss: 0.1204 - accuracy: 0.9609 - val_loss: 0.1150 - val_accuracy: 0.9657\n",
      "Epoch 6/100\n",
      "2444/2443 [==============================] - ETA: 0s - loss: 0.1076 - accuracy: 0.9651 ETA: 1s - loss: 0.107 - ETA: 0s - loss: 0.1076 - accura\n",
      "Epoch 00006: val_accuracy improved from 0.96638 to 0.97072, saving model to Handwritten_OCR.h5\n",
      "2444/2443 [==============================] - 68s 28ms/step - loss: 0.1076 - accuracy: 0.9651 - val_loss: 0.0908 - val_accuracy: 0.9707\n",
      "Epoch 7/100\n",
      "2443/2443 [============================>.] - ETA: 0s - loss: 0.0964 - accuracy: 0.9699\n",
      "Epoch 00007: val_accuracy improved from 0.97072 to 0.97580, saving model to Handwritten_OCR.h5\n",
      "2444/2443 [==============================] - 68s 28ms/step - loss: 0.0964 - accuracy: 0.9699 - val_loss: 0.0808 - val_accuracy: 0.9758\n",
      "Epoch 8/100\n",
      "2442/2443 [============================>.] - ETA: 0s - loss: 0.0850 - accuracy: 0.9724\n",
      "Epoch 00008: val_accuracy improved from 0.97580 to 0.97630, saving model to Handwritten_OCR.h5\n",
      "2444/2443 [==============================] - 74s 30ms/step - loss: 0.0851 - accuracy: 0.9724 - val_loss: 0.0785 - val_accuracy: 0.9763\n",
      "Epoch 9/100\n",
      "2444/2443 [==============================] - ETA: 0s - loss: 0.0812 - accuracy: 0.9744\n",
      "Epoch 00009: val_accuracy improved from 0.97630 to 0.97717, saving model to Handwritten_OCR.h5\n",
      "2444/2443 [==============================] - 75s 30ms/step - loss: 0.0812 - accuracy: 0.9744 - val_loss: 0.0752 - val_accuracy: 0.9772\n",
      "Epoch 10/100\n",
      "2442/2443 [============================>.] - ETA: 0s - loss: 0.0765 - accuracy: 0.9754\n",
      "Epoch 00010: val_accuracy did not improve from 0.97717\n",
      "2444/2443 [==============================] - 70s 29ms/step - loss: 0.0765 - accuracy: 0.9754 - val_loss: 0.0813 - val_accuracy: 0.9761\n",
      "Epoch 11/100\n",
      "2443/2443 [============================>.] - ETA: 0s - loss: 0.0698 - accuracy: 0.9770\n",
      "Epoch 00011: val_accuracy improved from 0.97717 to 0.97928, saving model to Handwritten_OCR.h5\n",
      "2444/2443 [==============================] - 70s 29ms/step - loss: 0.0697 - accuracy: 0.9770 - val_loss: 0.0686 - val_accuracy: 0.9793\n",
      "Epoch 12/100\n",
      "2443/2443 [============================>.] - ETA: 0s - loss: 0.0701 - accuracy: 0.9771\n",
      "Epoch 00012: val_accuracy did not improve from 0.97928\n",
      "2444/2443 [==============================] - 69s 28ms/step - loss: 0.0701 - accuracy: 0.9771 - val_loss: 0.0752 - val_accuracy: 0.9770\n",
      "Epoch 13/100\n",
      "2444/2443 [==============================] - ETA: 0s - loss: 0.0618 - accuracy: 0.9800\n",
      "Epoch 00013: val_accuracy did not improve from 0.97928\n",
      "2444/2443 [==============================] - 69s 28ms/step - loss: 0.0618 - accuracy: 0.9800 - val_loss: 0.0777 - val_accuracy: 0.9782\n",
      "Epoch 14/100\n",
      "2443/2443 [============================>.] - ETA: 0s - loss: 0.0629 - accuracy: 0.9797\n",
      "Epoch 00014: val_accuracy did not improve from 0.97928\n",
      "2444/2443 [==============================] - 68s 28ms/step - loss: 0.0630 - accuracy: 0.9797 - val_loss: 0.0832 - val_accuracy: 0.9760\n",
      "Epoch 15/100\n",
      "2443/2443 [============================>.] - ETA: 0s - loss: 0.0589 - accuracy: 0.9807\n",
      "Epoch 00015: val_accuracy improved from 0.97928 to 0.98152, saving model to Handwritten_OCR.h5\n",
      "2444/2443 [==============================] - 76s 31ms/step - loss: 0.0589 - accuracy: 0.9807 - val_loss: 0.0633 - val_accuracy: 0.9815\n",
      "Epoch 16/100\n",
      "2443/2443 [============================>.] - ETA: 0s - loss: 0.0577 - accuracy: 0.9815\n",
      "Epoch 00016: val_accuracy improved from 0.98152 to 0.98217, saving model to Handwritten_OCR.h5\n",
      "2444/2443 [==============================] - 68s 28ms/step - loss: 0.0578 - accuracy: 0.9815 - val_loss: 0.0645 - val_accuracy: 0.9822\n",
      "Epoch 17/100\n",
      "2444/2443 [==============================] - ETA: 0s - loss: 0.0530 - accuracy: 0.9823\n",
      "Epoch 00017: val_accuracy did not improve from 0.98217\n",
      "2444/2443 [==============================] - 68s 28ms/step - loss: 0.0530 - accuracy: 0.9823 - val_loss: 0.0628 - val_accuracy: 0.9820\n",
      "Epoch 18/100\n",
      "2443/2443 [============================>.] - ETA: 0s - loss: 0.0528 - accuracy: 0.9823\n",
      "Epoch 00018: val_accuracy did not improve from 0.98217\n",
      "2444/2443 [==============================] - 70s 29ms/step - loss: 0.0528 - accuracy: 0.9823 - val_loss: 0.0753 - val_accuracy: 0.9804\n",
      "Epoch 19/100\n",
      "2442/2443 [============================>.] - ETA: 0s - loss: 0.0514 - accuracy: 0.9838\n",
      "Epoch 00019: val_accuracy did not improve from 0.98217\n",
      "2444/2443 [==============================] - 67s 27ms/step - loss: 0.0514 - accuracy: 0.9838 - val_loss: 0.0689 - val_accuracy: 0.9818\n",
      "Epoch 20/100\n",
      "2442/2443 [============================>.] - ETA: 0s - loss: 0.0497 - accuracy: 0.9837\n",
      "Epoch 00020: val_accuracy did not improve from 0.98217\n",
      "2444/2443 [==============================] - 67s 28ms/step - loss: 0.0497 - accuracy: 0.9837 - val_loss: 0.0681 - val_accuracy: 0.9807\n",
      "Epoch 21/100\n",
      "2442/2443 [============================>.] - ETA: 0s - loss: 0.0490 - accuracy: 0.9842\n",
      "Epoch 00021: val_accuracy did not improve from 0.98217\n",
      "2444/2443 [==============================] - 68s 28ms/step - loss: 0.0491 - accuracy: 0.9842 - val_loss: 0.0786 - val_accuracy: 0.9797\n",
      "Epoch 22/100\n",
      "2442/2443 [============================>.] - ETA: 0s - loss: 0.0478 - accuracy: 0.9842\n",
      "Epoch 00022: val_accuracy improved from 0.98217 to 0.98283, saving model to Handwritten_OCR.h5\n",
      "2444/2443 [==============================] - 68s 28ms/step - loss: 0.0478 - accuracy: 0.9842 - val_loss: 0.0709 - val_accuracy: 0.9828\n",
      "Epoch 23/100\n",
      "2442/2443 [============================>.] - ETA: 0s - loss: 0.0482 - accuracy: 0.9850\n",
      "Epoch 00023: val_accuracy did not improve from 0.98283\n",
      "2444/2443 [==============================] - 71s 29ms/step - loss: 0.0482 - accuracy: 0.9850 - val_loss: 0.0703 - val_accuracy: 0.9812\n",
      "Epoch 24/100\n",
      "2443/2443 [============================>.] - ETA: 0s - loss: 0.0465 - accuracy: 0.9850\n",
      "Epoch 00024: val_accuracy improved from 0.98283 to 0.98341, saving model to Handwritten_OCR.h5\n",
      "2444/2443 [==============================] - 68s 28ms/step - loss: 0.0464 - accuracy: 0.9850 - val_loss: 0.0682 - val_accuracy: 0.9834\n",
      "Epoch 25/100\n",
      "2442/2443 [============================>.] - ETA: 0s - loss: 0.0443 - accuracy: 0.9857\n",
      "Epoch 00025: val_accuracy did not improve from 0.98341\n",
      "2444/2443 [==============================] - 66s 27ms/step - loss: 0.0443 - accuracy: 0.9857 - val_loss: 0.0769 - val_accuracy: 0.9820\n",
      "Epoch 26/100\n",
      "2442/2443 [============================>.] - ETA: 0s - loss: 0.0463 - accuracy: 0.9849\n",
      "Epoch 00026: val_accuracy did not improve from 0.98341\n",
      "2444/2443 [==============================] - 67s 27ms/step - loss: 0.0463 - accuracy: 0.9849 - val_loss: 0.0718 - val_accuracy: 0.9824\n",
      "Epoch 27/100\n",
      "2444/2443 [==============================] - ETA: 0s - loss: 0.0444 - accuracy: 0.9854\n",
      "Epoch 00027: val_accuracy did not improve from 0.98341\n",
      "2444/2443 [==============================] - 68s 28ms/step - loss: 0.0444 - accuracy: 0.9854 - val_loss: 0.0669 - val_accuracy: 0.9826\n",
      "Epoch 28/100\n",
      "2444/2443 [==============================] - ETA: 0s - loss: 0.0419 - accuracy: 0.9862\n",
      "Epoch 00028: val_accuracy did not improve from 0.98341\n",
      "2444/2443 [==============================] - 67s 28ms/step - loss: 0.0419 - accuracy: 0.9862 - val_loss: 0.0787 - val_accuracy: 0.9833\n",
      "Epoch 29/100\n",
      "2444/2443 [==============================] - ETA: 0s - loss: 0.0428 - accuracy: 0.9864\n",
      "Epoch 00029: val_accuracy improved from 0.98341 to 0.98449, saving model to Handwritten_OCR.h5\n",
      "2444/2443 [==============================] - 72s 29ms/step - loss: 0.0428 - accuracy: 0.9864 - val_loss: 0.0619 - val_accuracy: 0.9845\n",
      "Epoch 30/100\n",
      "2444/2443 [==============================] - ETA: 0s - loss: 0.0428 - accuracy: 0.9862\n",
      "Epoch 00030: val_accuracy did not improve from 0.98449\n",
      "2444/2443 [==============================] - 68s 28ms/step - loss: 0.0428 - accuracy: 0.9862 - val_loss: 0.0693 - val_accuracy: 0.9828\n",
      "Epoch 31/100\n",
      "2442/2443 [============================>.] - ETA: 0s - loss: 0.0420 - accuracy: 0.9863\n",
      "Epoch 00031: val_accuracy did not improve from 0.98449\n",
      "2444/2443 [==============================] - 68s 28ms/step - loss: 0.0421 - accuracy: 0.9863 - val_loss: 0.0631 - val_accuracy: 0.9842\n",
      "Epoch 32/100\n",
      "2442/2443 [============================>.] - ETA: 0s - loss: 0.0373 - accuracy: 0.9880\n",
      "Epoch 00032: val_accuracy did not improve from 0.98449\n",
      "2444/2443 [==============================] - 68s 28ms/step - loss: 0.0373 - accuracy: 0.9880 - val_loss: 0.0688 - val_accuracy: 0.9841\n",
      "Epoch 33/100\n",
      "2444/2443 [==============================] - ETA: 0s - loss: 0.0418 - accuracy: 0.9868\n",
      "Epoch 00033: val_accuracy improved from 0.98449 to 0.98601, saving model to Handwritten_OCR.h5\n",
      "2444/2443 [==============================] - 67s 27ms/step - loss: 0.0418 - accuracy: 0.9868 - val_loss: 0.0603 - val_accuracy: 0.9860\n",
      "Epoch 34/100\n",
      "2443/2443 [============================>.] - ETA: 0s - loss: 0.0379 - accuracy: 0.9878\n",
      "Epoch 00034: val_accuracy did not improve from 0.98601\n",
      "2444/2443 [==============================] - 70s 29ms/step - loss: 0.0379 - accuracy: 0.9878 - val_loss: 0.0731 - val_accuracy: 0.9828\n",
      "Epoch 35/100\n",
      "2443/2443 [============================>.] - ETA: 0s - loss: 0.0378 - accuracy: 0.9883\n",
      "Epoch 00035: val_accuracy did not improve from 0.98601\n",
      "2444/2443 [==============================] - 69s 28ms/step - loss: 0.0378 - accuracy: 0.9883 - val_loss: 0.0651 - val_accuracy: 0.9843\n",
      "Epoch 36/100\n",
      "2443/2443 [============================>.] - ETA: 0s - loss: 0.0373 - accuracy: 0.9881\n",
      "Epoch 00036: val_accuracy did not improve from 0.98601\n",
      "2444/2443 [==============================] - 69s 28ms/step - loss: 0.0373 - accuracy: 0.9881 - val_loss: 0.0738 - val_accuracy: 0.9836\n",
      "Epoch 37/100\n",
      "2442/2443 [============================>.] - ETA: 0s - loss: 0.0394 - accuracy: 0.9871\n",
      "Epoch 00037: val_accuracy did not improve from 0.98601\n",
      "2444/2443 [==============================] - 69s 28ms/step - loss: 0.0393 - accuracy: 0.9871 - val_loss: 0.0660 - val_accuracy: 0.9841\n",
      "Epoch 38/100\n",
      "2444/2443 [==============================] - ETA: 0s - loss: 0.0388 - accuracy: 0.9877 ETA: 0s - loss: 0.0388  - ETA: 0s - loss: 0.0388 - accuracy: 0.\n",
      "Epoch 00038: val_accuracy did not improve from 0.98601\n",
      "2444/2443 [==============================] - 71s 29ms/step - loss: 0.0388 - accuracy: 0.9877 - val_loss: 0.0679 - val_accuracy: 0.9843\n",
      "Epoch 39/100\n",
      "2444/2443 [==============================] - ETA: 0s - loss: 0.0391 - accuracy: 0.9875\n",
      "Epoch 00039: val_accuracy did not improve from 0.98601\n",
      "2444/2443 [==============================] - 72s 30ms/step - loss: 0.0391 - accuracy: 0.9875 - val_loss: 0.0650 - val_accuracy: 0.9846\n",
      "Epoch 40/100\n",
      "2442/2443 [============================>.] - ETA: 0s - loss: 0.0377 - accuracy: 0.9878\n",
      "Epoch 00040: val_accuracy did not improve from 0.98601\n",
      "2444/2443 [==============================] - 72s 29ms/step - loss: 0.0377 - accuracy: 0.9877 - val_loss: 0.0700 - val_accuracy: 0.9851\n",
      "Epoch 41/100\n",
      "2442/2443 [============================>.] - ETA: 0s - loss: 0.0373 - accuracy: 0.9881\n",
      "Epoch 00041: val_accuracy did not improve from 0.98601\n",
      "2444/2443 [==============================] - 68s 28ms/step - loss: 0.0372 - accuracy: 0.9881 - val_loss: 0.0595 - val_accuracy: 0.9860\n",
      "Epoch 42/100\n",
      "2442/2443 [============================>.] - ETA: 0s - loss: 0.0373 - accuracy: 0.9881\n",
      "Epoch 00042: val_accuracy did not improve from 0.98601\n",
      "2444/2443 [==============================] - 69s 28ms/step - loss: 0.0374 - accuracy: 0.9881 - val_loss: 0.0811 - val_accuracy: 0.9835\n",
      "Epoch 43/100\n",
      "2442/2443 [============================>.] - ETA: 0s - loss: 0.0356 - accuracy: 0.9882\n",
      "Epoch 00043: val_accuracy did not improve from 0.98601\n",
      "Restoring model weights from the end of the best epoch.\n",
      "2444/2443 [==============================] - 70s 28ms/step - loss: 0.0356 - accuracy: 0.9882 - val_loss: 0.0675 - val_accuracy: 0.9831\n",
      "Epoch 00043: early stopping\n"
     ]
    }
   ],
   "source": [
    "time1 = time.time()\n",
    "history = model.fit_generator(\n",
    "    train_generator, \n",
    "    validation_data=test_generator,\n",
    "    epochs=epochs,\n",
    "    steps_per_epoch=train_dataset_count/batch_size,\n",
    "    verbose=1,\n",
    "    callbacks=callbacks\n",
    "    )\n",
    "time2 = time.time()"
   ]
  },
  {
   "cell_type": "code",
   "execution_count": 13,
   "metadata": {},
   "outputs": [
    {
     "name": "stdout",
     "output_type": "stream",
     "text": [
      "50.2336462299029 mins\n"
     ]
    }
   ],
   "source": [
    "print(f'{(time2 - time1)/60} mins')"
   ]
  },
  {
   "cell_type": "code",
   "execution_count": 14,
   "metadata": {},
   "outputs": [
    {
     "data": {
      "text/plain": [
       "dict_keys(['loss', 'accuracy', 'val_loss', 'val_accuracy'])"
      ]
     },
     "execution_count": 14,
     "metadata": {},
     "output_type": "execute_result"
    }
   ],
   "source": [
    "history.history.keys()"
   ]
  },
  {
   "cell_type": "code",
   "execution_count": 15,
   "metadata": {},
   "outputs": [
    {
     "data": {
      "image/png": "[encoded data removed]",
      "text/plain": [
       "<Figure size 432x288 with 1 Axes>"
      ]
     },
     "metadata": {
      "needs_background": "light"
     },
     "output_type": "display_data"
    },
    {
     "data": {
      "text/plain": [
       "<Figure size 432x288 with 0 Axes>"
      ]
     },
     "metadata": {},
     "output_type": "display_data"
    }
   ],
   "source": [
    "#Accuracy plotting\n",
    "plt.plot(history.history['accuracy'], label='train_acc')\n",
    "plt.plot(history.history['val_accuracy'], label='val_acc')\n",
    "plt.title('model accuracy')\n",
    "plt.ylabel('accuracy')\n",
    "plt.xlabel('epochs')\n",
    "plt.legend()\n",
    "plt.grid()\n",
    "plt.show()\n",
    "plt.savefig('model_acc.png')"
   ]
  },
  {
   "cell_type": "code",
   "execution_count": 16,
   "metadata": {},
   "outputs": [
    {
     "data": {
      "image/png": "[encoded data removed]",
      "text/plain": [
       "<Figure size 432x288 with 1 Axes>"
      ]
     },
     "metadata": {
      "needs_background": "light"
     },
     "output_type": "display_data"
    },
    {
     "data": {
      "text/plain": [
       "<Figure size 432x288 with 0 Axes>"
      ]
     },
     "metadata": {},
     "output_type": "display_data"
    }
   ],
   "source": [
    "#Accuracy plotting\n",
    "plt.plot(history.history['loss'], label='train_loss')\n",
    "plt.plot(history.history['val_loss'], label='val_loss')\n",
    "plt.title('model loss')\n",
    "plt.ylabel('loss')\n",
    "plt.xlabel('epochs')\n",
    "plt.legend()\n",
    "plt.grid()\n",
    "plt.show()\n",
    "plt.savefig('model_loss.png')"
   ]
  },
  {
   "cell_type": "code",
   "execution_count": null,
   "metadata": {},
   "outputs": [],
   "source": []
  },
  {
   "cell_type": "code",
   "execution_count": 17,
   "metadata": {},
   "outputs": [],
   "source": [
    "model.save('cnnmodelfordevnagarik.h5')"
   ]
  },
  {
   "cell_type": "code",
   "execution_count": 1,
   "metadata": {},
   "outputs": [
    {
     "ename": "NameError",
     "evalue": "name 'model' is not defined",
     "output_type": "error",
     "traceback": [
      "\u001b[1;31m---------------------------------------------------------------------------\u001b[0m",
      "\u001b[1;31mNameError\u001b[0m                                 Traceback (most recent call last)",
      "Input \u001b[1;32mIn [1]\u001b[0m, in \u001b[0;36m<cell line: 1>\u001b[1;34m()\u001b[0m\n\u001b[1;32m----> 1\u001b[0m y_pred\u001b[38;5;241m=\u001b[39m\u001b[43mmodel\u001b[49m\u001b[38;5;241m.\u001b[39mpredict_classes(test_dir)\n\u001b[0;32m      2\u001b[0m con_mat \u001b[38;5;241m=\u001b[39m tf\u001b[38;5;241m.\u001b[39mmath\u001b[38;5;241m.\u001b[39mconfusion_matrix(labels\u001b[38;5;241m=\u001b[39my_true, predictions\u001b[38;5;241m=\u001b[39my_pred)\u001b[38;5;241m.\u001b[39mnumpy()\n",
      "\u001b[1;31mNameError\u001b[0m: name 'model' is not defined"
     ]
    }
   ],
   "source": [
    "y_pred=model.predict_classes(test_dir)\n",
    "con_mat = tf.math.confusion_matrix(labels=y_true, predictions=y_pred).numpy()"
   ]
  },
  {
   "cell_type": "code",
   "execution_count": 2,
   "metadata": {},
   "outputs": [
    {
     "ename": "NameError",
     "evalue": "name 'model' is not defined",
     "output_type": "error",
     "traceback": [
      "\u001b[1;31m---------------------------------------------------------------------------\u001b[0m",
      "\u001b[1;31mNameError\u001b[0m                                 Traceback (most recent call last)",
      "Input \u001b[1;32mIn [2]\u001b[0m, in \u001b[0;36m<cell line: 1>\u001b[1;34m()\u001b[0m\n\u001b[1;32m----> 1\u001b[0m y_pred \u001b[38;5;241m=\u001b[39m \u001b[43mmodel\u001b[49m\u001b[38;5;241m.\u001b[39mpredict_classes(test_images)\n\u001b[0;32m      2\u001b[0m con_mat \u001b[38;5;241m=\u001b[39m tf\u001b[38;5;241m.\u001b[39mmath\u001b[38;5;241m.\u001b[39mconfusion_matrix(labels\u001b[38;5;241m=\u001b[39my_true, predictions\u001b[38;5;241m=\u001b[39my_pred)\u001b[38;5;241m.\u001b[39mnumpy()\n",
      "\u001b[1;31mNameError\u001b[0m: name 'model' is not defined"
     ]
    }
   ],
   "source": [
    "y_pred = model.predict_classes(test_images)\n",
    "con_mat = tf.math.confusion_matrix(labels=y_true, predictions=y_pred).numpy()"
   ]
  },
  {
   "cell_type": "code",
   "execution_count": 5,
   "metadata": {},
   "outputs": [
    {
     "ename": "SyntaxError",
     "evalue": "invalid syntax (2276858649.py, line 1)",
     "output_type": "error",
     "traceback": [
      "\u001b[1;36m  Input \u001b[1;32mIn [5]\u001b[1;36m\u001b[0m\n\u001b[1;33m    from mlxtend.plotting import plot_confusion matrix\u001b[0m\n\u001b[1;37m                                                ^\u001b[0m\n\u001b[1;31mSyntaxError\u001b[0m\u001b[1;31m:\u001b[0m invalid syntax\n"
     ]
    }
   ],
   "source": [
    "from mlxtend.plotting import plot_confusion matrix"
   ]
  },
  {
   "cell_type": "code",
   "execution_count": 4,
   "metadata": {},
   "outputs": [
    {
     "name": "stdout",
     "output_type": "stream",
     "text": [
      "Collecting mlxtend\n",
      "  Downloading mlxtend-0.21.0-py2.py3-none-any.whl (1.3 MB)\n",
      "     ---------------------------------------- 1.3/1.3 MB 583.1 kB/s eta 0:00:00\n",
      "Requirement already satisfied: matplotlib>=3.0.0 in c:\\users\\santoshacharya\\anaconda3\\lib\\site-packages (from mlxtend) (3.5.1)\n",
      "Requirement already satisfied: pandas>=0.24.2 in c:\\users\\santoshacharya\\anaconda3\\lib\\site-packages (from mlxtend) (1.4.2)\n",
      "Requirement already satisfied: setuptools in c:\\users\\santoshacharya\\anaconda3\\lib\\site-packages (from mlxtend) (61.2.0)\n",
      "Requirement already satisfied: scipy>=1.2.1 in c:\\users\\santoshacharya\\anaconda3\\lib\\site-packages (from mlxtend) (1.7.3)\n",
      "Requirement already satisfied: numpy>=1.16.2 in c:\\users\\santoshacharya\\anaconda3\\lib\\site-packages (from mlxtend) (1.21.5)\n",
      "Requirement already satisfied: joblib>=0.13.2 in c:\\users\\santoshacharya\\anaconda3\\lib\\site-packages (from mlxtend) (1.1.0)\n",
      "Requirement already satisfied: scikit-learn>=1.0.2 in c:\\users\\santoshacharya\\anaconda3\\lib\\site-packages (from mlxtend) (1.0.2)\n",
      "Requirement already satisfied: cycler>=0.10 in c:\\users\\santoshacharya\\anaconda3\\lib\\site-packages (from matplotlib>=3.0.0->mlxtend) (0.11.0)\n",
      "Requirement already satisfied: python-dateutil>=2.7 in c:\\users\\santoshacharya\\anaconda3\\lib\\site-packages (from matplotlib>=3.0.0->mlxtend) (2.8.2)\n",
      "Requirement already satisfied: pyparsing>=2.2.1 in c:\\users\\santoshacharya\\anaconda3\\lib\\site-packages (from matplotlib>=3.0.0->mlxtend) (3.0.4)\n",
      "Requirement already satisfied: kiwisolver>=1.0.1 in c:\\users\\santoshacharya\\anaconda3\\lib\\site-packages (from matplotlib>=3.0.0->mlxtend) (1.3.2)\n",
      "Requirement already satisfied: packaging>=20.0 in c:\\users\\santoshacharya\\anaconda3\\lib\\site-packages (from matplotlib>=3.0.0->mlxtend) (21.3)\n",
      "Requirement already satisfied: fonttools>=4.22.0 in c:\\users\\santoshacharya\\anaconda3\\lib\\site-packages (from matplotlib>=3.0.0->mlxtend) (4.25.0)\n",
      "Requirement already satisfied: pillow>=6.2.0 in c:\\users\\santoshacharya\\anaconda3\\lib\\site-packages (from matplotlib>=3.0.0->mlxtend) (9.0.1)\n",
      "Requirement already satisfied: pytz>=2020.1 in c:\\users\\santoshacharya\\anaconda3\\lib\\site-packages (from pandas>=0.24.2->mlxtend) (2021.3)\n",
      "Requirement already satisfied: threadpoolctl>=2.0.0 in c:\\users\\santoshacharya\\anaconda3\\lib\\site-packages (from scikit-learn>=1.0.2->mlxtend) (2.2.0)\n",
      "Requirement already satisfied: six>=1.5 in c:\\users\\santoshacharya\\anaconda3\\lib\\site-packages (from python-dateutil>=2.7->matplotlib>=3.0.0->mlxtend) (1.16.0)\n",
      "Installing collected packages: mlxtend\n",
      "Successfully installed mlxtend-0.21.0\n"
     ]
    }
   ],
   "source": [
    "!pip install mlxtend"
   ]
  },
  {
   "cell_type": "code",
   "execution_count": 8,
   "metadata": {},
   "outputs": [],
   "source": [
    "from mlxtend.plotting import plot_confusion_matrix\n",
    "from sklearn.metrics import confusion_matrix"
   ]
  },
  {
   "cell_type": "code",
   "execution_count": 13,
   "metadata": {},
   "outputs": [
    {
     "ename": "NameError",
     "evalue": "name 'test_datasets' is not defined",
     "output_type": "error",
     "traceback": [
      "\u001b[1;31m---------------------------------------------------------------------------\u001b[0m",
      "\u001b[1;31mNameError\u001b[0m                                 Traceback (most recent call last)",
      "Input \u001b[1;32mIn [13]\u001b[0m, in \u001b[0;36m<cell line: 1>\u001b[1;34m()\u001b[0m\n\u001b[1;32m----> 1\u001b[0m mat \u001b[38;5;241m=\u001b[39m confusion_matrix(\u001b[43mtest_datasets\u001b[49m,y_pred)\n\u001b[0;32m      2\u001b[0m plot_confusion_matrix(conf_mat\u001b[38;5;241m=\u001b[39mmat)\n",
      "\u001b[1;31mNameError\u001b[0m: name 'test_datasets' is not defined"
     ]
    }
   ],
   "source": [
    "mat = confusion_matrix(test_datasets,y_pred)\n",
    "plot_confusion_matrix(conf_mat=mat)"
   ]
  },
  {
   "cell_type": "code",
   "execution_count": null,
   "metadata": {},
   "outputs": [],
   "source": []
  }
 ],
 "metadata": {
  "kernelspec": {
   "display_name": "Python 3 (ipykernel)",
   "language": "python",
   "name": "python3"
  },
  "language_info": {
   "codemirror_mode": {
    "name": "ipython",
    "version": 3
   },
   "file_extension": ".py",
   "mimetype": "text/x-python",
   "name": "python",
   "nbconvert_exporter": "python",
   "pygments_lexer": "ipython3",
   "version": "3.9.12"
  },
  "vscode": {
   "interpreter": {
    "hash": "db24c8c0ed38ea353f02baa74d4df301257f9be3a07965f3d299b70ebcd68017"
   }
  }
 },
 "nbformat": 4,
 "nbformat_minor": 4
}
